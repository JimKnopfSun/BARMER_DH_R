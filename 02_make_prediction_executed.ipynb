{
 "cells": [
  {
   "cell_type": "markdown",
   "metadata": {
    "papermill": {
     "duration": 0.014214,
     "end_time": "2020-03-26T07:03:22.785604",
     "exception": false,
     "start_time": "2020-03-26T07:03:22.771390",
     "status": "completed"
    },
    "tags": []
   },
   "source": [
    "# Libraries"
   ]
  },
  {
   "cell_type": "code",
   "execution_count": 1,
   "metadata": {
    "papermill": {
     "duration": 3.811217,
     "end_time": "2020-03-26T07:03:26.608180",
     "exception": false,
     "start_time": "2020-03-26T07:03:22.796963",
     "status": "completed"
    },
    "tags": []
   },
   "outputs": [
    {
     "name": "stderr",
     "output_type": "stream",
     "text": [
      "Warning message:\n",
      "“package ‘caret’ was built under R version 3.6.2”\n"
     ]
    },
    {
     "name": "stderr",
     "output_type": "stream",
     "text": [
      "Loading required package: lattice\n",
      "\n"
     ]
    },
    {
     "name": "stderr",
     "output_type": "stream",
     "text": [
      "Loading required package: ggplot2\n",
      "\n"
     ]
    }
   ],
   "source": [
    "library('caret')"
   ]
  },
  {
   "cell_type": "markdown",
   "metadata": {
    "papermill": {
     "duration": 0.017704,
     "end_time": "2020-03-26T07:03:26.647027",
     "exception": false,
     "start_time": "2020-03-26T07:03:26.629323",
     "status": "completed"
    },
    "tags": []
   },
   "source": [
    "# Load Data"
   ]
  },
  {
   "cell_type": "code",
   "execution_count": 2,
   "metadata": {
    "papermill": {
     "duration": 0.723699,
     "end_time": "2020-03-26T07:03:27.386785",
     "exception": false,
     "start_time": "2020-03-26T07:03:26.663086",
     "status": "completed"
    },
    "tags": []
   },
   "outputs": [],
   "source": [
    "# attach the iris dataset to the environment\n",
    "data(iris)\n",
    "# rename the dataset\n",
    "dataset <- iris"
   ]
  },
  {
   "cell_type": "markdown",
   "metadata": {
    "papermill": {
     "duration": 0.020103,
     "end_time": "2020-03-26T07:03:27.430756",
     "exception": false,
     "start_time": "2020-03-26T07:03:27.410653",
     "status": "completed"
    },
    "tags": []
   },
   "source": [
    "# Prepare Testset"
   ]
  },
  {
   "cell_type": "code",
   "execution_count": 3,
   "metadata": {
    "papermill": {
     "duration": 0.056337,
     "end_time": "2020-03-26T07:03:27.503854",
     "exception": false,
     "start_time": "2020-03-26T07:03:27.447517",
     "status": "completed"
    },
    "tags": []
   },
   "outputs": [],
   "source": [
    "# 2. Split out validation dataset\n",
    "# create a list of 80% of the rows in the original dataset we can use for training\n",
    "validation_index <- createDataPartition(dataset$Species, p=0.80, list=FALSE)\n",
    "\n",
    "# select 20% of the data for validation\n",
    "validation <- dataset[-validation_index,]"
   ]
  },
  {
   "cell_type": "markdown",
   "metadata": {
    "papermill": {
     "duration": 0.020295,
     "end_time": "2020-03-26T07:03:27.543786",
     "exception": false,
     "start_time": "2020-03-26T07:03:27.523491",
     "status": "completed"
    },
    "tags": []
   },
   "source": [
    "# Load Model"
   ]
  },
  {
   "cell_type": "code",
   "execution_count": 4,
   "metadata": {
    "papermill": {
     "duration": 0.053701,
     "end_time": "2020-03-26T07:03:27.613518",
     "exception": false,
     "start_time": "2020-03-26T07:03:27.559817",
     "status": "completed"
    },
    "tags": []
   },
   "outputs": [],
   "source": [
    "# finalModel <- readRDS(\"finalModel.rds\")\n",
    "finalModel <- readRDS(\"/vrep/vflow/tmp/DSP/R_Demo/finalModel.rds\")"
   ]
  },
  {
   "cell_type": "code",
   "execution_count": 5,
   "metadata": {
    "papermill": {
     "duration": 0.05742,
     "end_time": "2020-03-26T07:03:27.689756",
     "exception": false,
     "start_time": "2020-03-26T07:03:27.632336",
     "status": "completed"
    },
    "tags": []
   },
   "outputs": [
    {
     "data": {
      "text/html": [
       "<style>\n",
       ".list-inline {list-style: none; margin:0; padding: 0}\n",
       ".list-inline>li {display: inline-block}\n",
       ".list-inline>li:not(:last-child)::after {content: \"\\00b7\"; padding: 0 .5ex}\n",
       "</style>\n",
       "<ol class=list-inline><li>setosa</li><li>setosa</li><li>setosa</li><li>setosa</li><li>setosa</li><li>setosa</li><li>setosa</li><li>setosa</li><li>setosa</li><li>setosa</li><li>versicolor</li><li>versicolor</li><li>versicolor</li><li>versicolor</li><li>versicolor</li><li>versicolor</li><li>versicolor</li><li>versicolor</li><li>versicolor</li><li>versicolor</li><li>virginica</li><li>virginica</li><li>virginica</li><li>virginica</li><li>virginica</li><li>virginica</li><li>virginica</li><li>versicolor</li><li>virginica</li><li>virginica</li></ol>\n",
       "\n",
       "<details>\n",
       "\t<summary style=display:list-item;cursor:pointer>\n",
       "\t\t<strong>Levels</strong>:\n",
       "\t</summary>\n",
       "\t<style>\n",
       "\t.list-inline {list-style: none; margin:0; padding: 0}\n",
       "\t.list-inline>li {display: inline-block}\n",
       "\t.list-inline>li:not(:last-child)::after {content: \"\\00b7\"; padding: 0 .5ex}\n",
       "\t</style>\n",
       "\t<ol class=list-inline><li>'setosa'</li><li>'versicolor'</li><li>'virginica'</li></ol>\n",
       "</details>"
      ],
      "text/latex": [
       "\\begin{enumerate*}\n",
       "\\item setosa\n",
       "\\item setosa\n",
       "\\item setosa\n",
       "\\item setosa\n",
       "\\item setosa\n",
       "\\item setosa\n",
       "\\item setosa\n",
       "\\item setosa\n",
       "\\item setosa\n",
       "\\item setosa\n",
       "\\item versicolor\n",
       "\\item versicolor\n",
       "\\item versicolor\n",
       "\\item versicolor\n",
       "\\item versicolor\n",
       "\\item versicolor\n",
       "\\item versicolor\n",
       "\\item versicolor\n",
       "\\item versicolor\n",
       "\\item versicolor\n",
       "\\item virginica\n",
       "\\item virginica\n",
       "\\item virginica\n",
       "\\item virginica\n",
       "\\item virginica\n",
       "\\item virginica\n",
       "\\item virginica\n",
       "\\item versicolor\n",
       "\\item virginica\n",
       "\\item virginica\n",
       "\\end{enumerate*}\n",
       "\n",
       "\\emph{Levels}: \\begin{enumerate*}\n",
       "\\item 'setosa'\n",
       "\\item 'versicolor'\n",
       "\\item 'virginica'\n",
       "\\end{enumerate*}\n"
      ],
      "text/markdown": [
       "1. setosa\n",
       "2. setosa\n",
       "3. setosa\n",
       "4. setosa\n",
       "5. setosa\n",
       "6. setosa\n",
       "7. setosa\n",
       "8. setosa\n",
       "9. setosa\n",
       "10. setosa\n",
       "11. versicolor\n",
       "12. versicolor\n",
       "13. versicolor\n",
       "14. versicolor\n",
       "15. versicolor\n",
       "16. versicolor\n",
       "17. versicolor\n",
       "18. versicolor\n",
       "19. versicolor\n",
       "20. versicolor\n",
       "21. virginica\n",
       "22. virginica\n",
       "23. virginica\n",
       "24. virginica\n",
       "25. virginica\n",
       "26. virginica\n",
       "27. virginica\n",
       "28. versicolor\n",
       "29. virginica\n",
       "30. virginica\n",
       "\n",
       "\n",
       "\n",
       "**Levels**: 1. 'setosa'\n",
       "2. 'versicolor'\n",
       "3. 'virginica'\n",
       "\n",
       "\n"
      ],
      "text/plain": [
       " [1] setosa     setosa     setosa     setosa     setosa     setosa    \n",
       " [7] setosa     setosa     setosa     setosa     versicolor versicolor\n",
       "[13] versicolor versicolor versicolor versicolor versicolor versicolor\n",
       "[19] versicolor versicolor virginica  virginica  virginica  virginica \n",
       "[25] virginica  virginica  virginica  versicolor virginica  virginica \n",
       "Levels: setosa versicolor virginica"
      ]
     },
     "metadata": {},
     "output_type": "display_data"
    }
   ],
   "source": [
    "predictions <- predict(finalModel, newdata=validation)\n",
    "predictions"
   ]
  },
  {
   "cell_type": "code",
   "execution_count": 6,
   "metadata": {
    "papermill": {
     "duration": 0.02892,
     "end_time": "2020-03-26T07:03:27.740211",
     "exception": false,
     "start_time": "2020-03-26T07:03:27.711291",
     "status": "completed"
    },
    "tags": []
   },
   "outputs": [],
   "source": [
    "pred_df <- data.frame(predictions)"
   ]
  },
  {
   "cell_type": "code",
   "execution_count": 7,
   "metadata": {
    "papermill": {
     "duration": 0.072485,
     "end_time": "2020-03-26T07:03:27.825428",
     "exception": false,
     "start_time": "2020-03-26T07:03:27.752943",
     "status": "completed"
    },
    "tags": []
   },
   "outputs": [
    {
     "data": {
      "text/html": [
       "<table>\n",
       "<caption>A data.frame: 6 × 1</caption>\n",
       "<thead>\n",
       "\t<tr><th></th><th scope=col>predictions</th></tr>\n",
       "\t<tr><th></th><th scope=col>&lt;fct&gt;</th></tr>\n",
       "</thead>\n",
       "<tbody>\n",
       "\t<tr><th scope=row>1</th><td>setosa</td></tr>\n",
       "\t<tr><th scope=row>2</th><td>setosa</td></tr>\n",
       "\t<tr><th scope=row>3</th><td>setosa</td></tr>\n",
       "\t<tr><th scope=row>4</th><td>setosa</td></tr>\n",
       "\t<tr><th scope=row>5</th><td>setosa</td></tr>\n",
       "\t<tr><th scope=row>6</th><td>setosa</td></tr>\n",
       "</tbody>\n",
       "</table>\n"
      ],
      "text/latex": [
       "A data.frame: 6 × 1\n",
       "\\begin{tabular}{r|l}\n",
       "  & predictions\\\\\n",
       "  & <fct>\\\\\n",
       "\\hline\n",
       "\t1 & setosa\\\\\n",
       "\t2 & setosa\\\\\n",
       "\t3 & setosa\\\\\n",
       "\t4 & setosa\\\\\n",
       "\t5 & setosa\\\\\n",
       "\t6 & setosa\\\\\n",
       "\\end{tabular}\n"
      ],
      "text/markdown": [
       "\n",
       "A data.frame: 6 × 1\n",
       "\n",
       "| <!--/--> | predictions &lt;fct&gt; |\n",
       "|---|---|\n",
       "| 1 | setosa |\n",
       "| 2 | setosa |\n",
       "| 3 | setosa |\n",
       "| 4 | setosa |\n",
       "| 5 | setosa |\n",
       "| 6 | setosa |\n",
       "\n"
      ],
      "text/plain": [
       "  predictions\n",
       "1 setosa     \n",
       "2 setosa     \n",
       "3 setosa     \n",
       "4 setosa     \n",
       "5 setosa     \n",
       "6 setosa     "
      ]
     },
     "metadata": {},
     "output_type": "display_data"
    }
   ],
   "source": [
    "head(pred_df)"
   ]
  },
  {
   "cell_type": "code",
   "execution_count": 8,
   "metadata": {
    "papermill": {
     "duration": 0.045773,
     "end_time": "2020-03-26T07:03:27.890980",
     "exception": false,
     "start_time": "2020-03-26T07:03:27.845207",
     "status": "completed"
    },
    "tags": []
   },
   "outputs": [],
   "source": [
    "write.csv(pred_df, \"/vrep/vflow/tmp/DSP/R_Demo/predictions.csv\")"
   ]
  }
 ],
 "metadata": {
  "kernelspec": {
   "display_name": "R",
   "language": "R",
   "name": "ir"
  },
  "language_info": {
   "codemirror_mode": "r",
   "file_extension": ".r",
   "mimetype": "text/x-r-source",
   "name": "R",
   "pygments_lexer": "r",
   "version": "3.6.1"
  },
  "papermill": {
   "duration": 7.064317,
   "end_time": "2020-03-26T07:03:28.026073",
   "environment_variables": {},
   "exception": null,
   "input_path": "/vrep/vflow/tmp/DSP/R_Demo/02_make_prediction.ipynb",
   "output_path": "/vrep/vflow/tmp/DSP/R_Demo/02_make_prediction_executed.ipynb",
   "parameters": {},
   "start_time": "2020-03-26T07:03:20.961756",
   "version": "1.2.1"
  }
 },
 "nbformat": 4,
 "nbformat_minor": 4
}